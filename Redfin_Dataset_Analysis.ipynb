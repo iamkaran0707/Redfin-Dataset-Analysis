{
 "cells": [
  {
   "cell_type": "markdown",
   "metadata": {},
   "source": [
    "### 1. Import Libraries"
   ]
  },
  {
   "cell_type": "code",
   "execution_count": 139,
   "metadata": {},
   "outputs": [],
   "source": [
    "# libraries used for handling the data\n",
    "import pandas as pd\n",
    "import numpy as np\n",
    "import matplotlib.pyplot as plt\n",
    "import seaborn as sns\n",
    "%matplotlib inline\n",
    "\n",
    "## Libraries used for Machine Learning\n",
    "from sklearn.model_selection import train_test_split\n",
    "from sklearn.tree import DecisionTreeRegressor\n",
    "from sklearn.ensemble import RandomForestRegressor\n",
    "import xgboost as xgb\n",
    "from sklearn.preprocessing import StandardScaler\n",
    "\n",
    "## libraries to be used for metric evaluation\n",
    "from sklearn.metrics import r2_score"
   ]
  },
  {
   "cell_type": "markdown",
   "metadata": {},
   "source": [
    "### 2. Reading Dataset"
   ]
  },
  {
   "cell_type": "code",
   "execution_count": 140,
   "metadata": {},
   "outputs": [],
   "source": [
    "df = pd.read_csv('redfin_2021-01-09-11-41-32.csv')"
   ]
  },
  {
   "cell_type": "code",
   "execution_count": 141,
   "metadata": {},
   "outputs": [
    {
     "data": {
      "text/html": [
       "<div>\n",
       "<style scoped>\n",
       "    .dataframe tbody tr th:only-of-type {\n",
       "        vertical-align: middle;\n",
       "    }\n",
       "\n",
       "    .dataframe tbody tr th {\n",
       "        vertical-align: top;\n",
       "    }\n",
       "\n",
       "    .dataframe thead th {\n",
       "        text-align: right;\n",
       "    }\n",
       "</style>\n",
       "<table border=\"1\" class=\"dataframe\">\n",
       "  <thead>\n",
       "    <tr style=\"text-align: right;\">\n",
       "      <th></th>\n",
       "      <th>SALE TYPE</th>\n",
       "      <th>SOLD DATE</th>\n",
       "      <th>PROPERTY TYPE</th>\n",
       "      <th>ADDRESS</th>\n",
       "      <th>CITY</th>\n",
       "      <th>STATE OR PROVINCE</th>\n",
       "      <th>ZIP OR POSTAL CODE</th>\n",
       "      <th>PRICE</th>\n",
       "      <th>BEDS</th>\n",
       "      <th>BATHS</th>\n",
       "      <th>...</th>\n",
       "      <th>STATUS</th>\n",
       "      <th>NEXT OPEN HOUSE START TIME</th>\n",
       "      <th>NEXT OPEN HOUSE END TIME</th>\n",
       "      <th>URL (SEE http://www.redfin.com/buy-a-home/comparative-market-analysis FOR INFO ON PRICING)</th>\n",
       "      <th>SOURCE</th>\n",
       "      <th>MLS#</th>\n",
       "      <th>FAVORITE</th>\n",
       "      <th>INTERESTED</th>\n",
       "      <th>LATITUDE</th>\n",
       "      <th>LONGITUDE</th>\n",
       "    </tr>\n",
       "  </thead>\n",
       "  <tbody>\n",
       "    <tr>\n",
       "      <th>0</th>\n",
       "      <td>MLS Listing</td>\n",
       "      <td>NaN</td>\n",
       "      <td>Condo/Co-op</td>\n",
       "      <td>1111 S Akard St #316</td>\n",
       "      <td>Dallas</td>\n",
       "      <td>TX</td>\n",
       "      <td>75215.0</td>\n",
       "      <td>352000.0</td>\n",
       "      <td>3.0</td>\n",
       "      <td>2.5</td>\n",
       "      <td>...</td>\n",
       "      <td>Active</td>\n",
       "      <td>NaN</td>\n",
       "      <td>NaN</td>\n",
       "      <td>http://www.redfin.com/TX/Dallas/1111-S-Akard-S...</td>\n",
       "      <td>NTREIS</td>\n",
       "      <td>14486373</td>\n",
       "      <td>N</td>\n",
       "      <td>Y</td>\n",
       "      <td>32.772325</td>\n",
       "      <td>-96.794770</td>\n",
       "    </tr>\n",
       "    <tr>\n",
       "      <th>1</th>\n",
       "      <td>MLS Listing</td>\n",
       "      <td>NaN</td>\n",
       "      <td>Condo/Co-op</td>\n",
       "      <td>1200 Main St #404</td>\n",
       "      <td>Dallas</td>\n",
       "      <td>TX</td>\n",
       "      <td>75202.0</td>\n",
       "      <td>300000.0</td>\n",
       "      <td>2.0</td>\n",
       "      <td>2.0</td>\n",
       "      <td>...</td>\n",
       "      <td>Active</td>\n",
       "      <td>NaN</td>\n",
       "      <td>NaN</td>\n",
       "      <td>http://www.redfin.com/TX/Dallas/1200-Main-St-7...</td>\n",
       "      <td>NTREIS</td>\n",
       "      <td>14465509</td>\n",
       "      <td>N</td>\n",
       "      <td>Y</td>\n",
       "      <td>32.780077</td>\n",
       "      <td>-96.801168</td>\n",
       "    </tr>\n",
       "    <tr>\n",
       "      <th>2</th>\n",
       "      <td>MLS Listing</td>\n",
       "      <td>NaN</td>\n",
       "      <td>Condo/Co-op</td>\n",
       "      <td>1200 Main St #1904</td>\n",
       "      <td>Dallas</td>\n",
       "      <td>TX</td>\n",
       "      <td>75202.0</td>\n",
       "      <td>325000.0</td>\n",
       "      <td>2.0</td>\n",
       "      <td>2.0</td>\n",
       "      <td>...</td>\n",
       "      <td>Active</td>\n",
       "      <td>NaN</td>\n",
       "      <td>NaN</td>\n",
       "      <td>http://www.redfin.com/TX/Dallas/1200-Main-St-7...</td>\n",
       "      <td>NTREIS</td>\n",
       "      <td>14434367</td>\n",
       "      <td>N</td>\n",
       "      <td>Y</td>\n",
       "      <td>32.780077</td>\n",
       "      <td>-96.801168</td>\n",
       "    </tr>\n",
       "    <tr>\n",
       "      <th>3</th>\n",
       "      <td>MLS Listing</td>\n",
       "      <td>NaN</td>\n",
       "      <td>Condo/Co-op</td>\n",
       "      <td>1200 Main St #908</td>\n",
       "      <td>Dallas</td>\n",
       "      <td>TX</td>\n",
       "      <td>75202.0</td>\n",
       "      <td>247000.0</td>\n",
       "      <td>1.0</td>\n",
       "      <td>1.0</td>\n",
       "      <td>...</td>\n",
       "      <td>Active</td>\n",
       "      <td>NaN</td>\n",
       "      <td>NaN</td>\n",
       "      <td>http://www.redfin.com/TX/Dallas/1200-Main-St-7...</td>\n",
       "      <td>NTREIS</td>\n",
       "      <td>14483023</td>\n",
       "      <td>N</td>\n",
       "      <td>Y</td>\n",
       "      <td>32.780077</td>\n",
       "      <td>-96.801168</td>\n",
       "    </tr>\n",
       "    <tr>\n",
       "      <th>4</th>\n",
       "      <td>MLS Listing</td>\n",
       "      <td>NaN</td>\n",
       "      <td>Condo/Co-op</td>\n",
       "      <td>1200 Main St #1202</td>\n",
       "      <td>Dallas</td>\n",
       "      <td>TX</td>\n",
       "      <td>75202.0</td>\n",
       "      <td>196000.0</td>\n",
       "      <td>1.0</td>\n",
       "      <td>1.0</td>\n",
       "      <td>...</td>\n",
       "      <td>Active</td>\n",
       "      <td>NaN</td>\n",
       "      <td>NaN</td>\n",
       "      <td>http://www.redfin.com/TX/Dallas/1200-Main-St-7...</td>\n",
       "      <td>NTREIS</td>\n",
       "      <td>14419238</td>\n",
       "      <td>N</td>\n",
       "      <td>Y</td>\n",
       "      <td>32.780077</td>\n",
       "      <td>-96.801168</td>\n",
       "    </tr>\n",
       "  </tbody>\n",
       "</table>\n",
       "<p>5 rows × 27 columns</p>\n",
       "</div>"
      ],
      "text/plain": [
       "     SALE TYPE  SOLD DATE PROPERTY TYPE               ADDRESS    CITY  \\\n",
       "0  MLS Listing        NaN   Condo/Co-op  1111 S Akard St #316  Dallas   \n",
       "1  MLS Listing        NaN   Condo/Co-op     1200 Main St #404  Dallas   \n",
       "2  MLS Listing        NaN   Condo/Co-op    1200 Main St #1904  Dallas   \n",
       "3  MLS Listing        NaN   Condo/Co-op     1200 Main St #908  Dallas   \n",
       "4  MLS Listing        NaN   Condo/Co-op    1200 Main St #1202  Dallas   \n",
       "\n",
       "  STATE OR PROVINCE  ZIP OR POSTAL CODE     PRICE  BEDS  BATHS  ...  STATUS  \\\n",
       "0                TX             75215.0  352000.0   3.0    2.5  ...  Active   \n",
       "1                TX             75202.0  300000.0   2.0    2.0  ...  Active   \n",
       "2                TX             75202.0  325000.0   2.0    2.0  ...  Active   \n",
       "3                TX             75202.0  247000.0   1.0    1.0  ...  Active   \n",
       "4                TX             75202.0  196000.0   1.0    1.0  ...  Active   \n",
       "\n",
       "   NEXT OPEN HOUSE START TIME  NEXT OPEN HOUSE END TIME  \\\n",
       "0                         NaN                       NaN   \n",
       "1                         NaN                       NaN   \n",
       "2                         NaN                       NaN   \n",
       "3                         NaN                       NaN   \n",
       "4                         NaN                       NaN   \n",
       "\n",
       "   URL (SEE http://www.redfin.com/buy-a-home/comparative-market-analysis FOR INFO ON PRICING)  \\\n",
       "0  http://www.redfin.com/TX/Dallas/1111-S-Akard-S...                                            \n",
       "1  http://www.redfin.com/TX/Dallas/1200-Main-St-7...                                            \n",
       "2  http://www.redfin.com/TX/Dallas/1200-Main-St-7...                                            \n",
       "3  http://www.redfin.com/TX/Dallas/1200-Main-St-7...                                            \n",
       "4  http://www.redfin.com/TX/Dallas/1200-Main-St-7...                                            \n",
       "\n",
       "   SOURCE      MLS#  FAVORITE INTERESTED   LATITUDE  LONGITUDE  \n",
       "0  NTREIS  14486373         N          Y  32.772325 -96.794770  \n",
       "1  NTREIS  14465509         N          Y  32.780077 -96.801168  \n",
       "2  NTREIS  14434367         N          Y  32.780077 -96.801168  \n",
       "3  NTREIS  14483023         N          Y  32.780077 -96.801168  \n",
       "4  NTREIS  14419238         N          Y  32.780077 -96.801168  \n",
       "\n",
       "[5 rows x 27 columns]"
      ]
     },
     "execution_count": 141,
     "metadata": {},
     "output_type": "execute_result"
    }
   ],
   "source": [
    "df.head()"
   ]
  },
  {
   "cell_type": "code",
   "execution_count": 142,
   "metadata": {},
   "outputs": [
    {
     "name": "stdout",
     "output_type": "stream",
     "text": [
      "Shape of the dataset is: (1017, 27)\n"
     ]
    }
   ],
   "source": [
    "print(\"Shape of the dataset is:\", df.shape)"
   ]
  },
  {
   "cell_type": "markdown",
   "metadata": {},
   "source": [
    "### 3. Cleaning The Dataset"
   ]
  },
  {
   "cell_type": "markdown",
   "metadata": {},
   "source": [
    "**Check how many of the features has null values in them**"
   ]
  },
  {
   "cell_type": "code",
   "execution_count": 143,
   "metadata": {},
   "outputs": [
    {
     "data": {
      "text/plain": [
       "SALE TYPE                                                                                       0.000000\n",
       "SOLD DATE                                                                                     100.000000\n",
       "PROPERTY TYPE                                                                                   0.098328\n",
       "ADDRESS                                                                                         0.294985\n",
       "CITY                                                                                            0.098328\n",
       "STATE OR PROVINCE                                                                               0.098328\n",
       "ZIP OR POSTAL CODE                                                                              0.098328\n",
       "PRICE                                                                                           0.098328\n",
       "BEDS                                                                                            0.098328\n",
       "BATHS                                                                                          10.521141\n",
       "LOCATION                                                                                        0.294985\n",
       "SQUARE FEET                                                                                     8.652901\n",
       "LOT SIZE                                                                                       10.717797\n",
       "YEAR BUILT                                                                                      8.751229\n",
       "DAYS ON MARKET                                                                                  1.671583\n",
       "$/SQUARE FEET                                                                                   8.652901\n",
       "HOA/MONTH                                                                                      42.871190\n",
       "STATUS                                                                                          0.098328\n",
       "NEXT OPEN HOUSE START TIME                                                                     91.543756\n",
       "NEXT OPEN HOUSE END TIME                                                                       91.543756\n",
       "URL (SEE http://www.redfin.com/buy-a-home/comparative-market-analysis FOR INFO ON PRICING)      0.098328\n",
       "SOURCE                                                                                          0.098328\n",
       "MLS#                                                                                            0.098328\n",
       "FAVORITE                                                                                        0.098328\n",
       "INTERESTED                                                                                      0.098328\n",
       "LATITUDE                                                                                        0.098328\n",
       "LONGITUDE                                                                                       0.098328\n",
       "dtype: float64"
      ]
     },
     "execution_count": 143,
     "metadata": {},
     "output_type": "execute_result"
    }
   ],
   "source": [
    "df.isnull().mean()*100"
   ]
  },
  {
   "cell_type": "markdown",
   "metadata": {},
   "source": [
    "From the above we can see that the features like: **SOLD DATE**, **NEXT OPEN HOUSE START TIME**, **NEXT OPEN HOUSE END TIME** has more than 90% of values missing, so we can drop these features.\n",
    "\n",
    "Furthermore,there are some other features like below that we can also drop from our dataset:\n",
    "\n",
    "**SALE TYPE**: By using value_counts we can see that it has 990/1017 as MLS LISTING, so we can drop them\n",
    "\n",
    "**ADDRESS**: We can also drop this as this is unique for each property listed\n",
    "\n",
    "**CITY**: We can drop this as this dataset is specifically for 'DALLAS'\n",
    "\n",
    "**STATE OR PROVINCE**: This dataset is only for TX state\n",
    "\n",
    "**ZIP OR POSTAL CODE**: We will be dropping this feature as we have LOCATION feature\n",
    "\n",
    "**LOT SIZE**: We will also drop this feature as we are more interested in SQUARE FEET of property\n",
    "\n",
    "**HOA/MONTH**: Here the missing values are more than 40%, so lets drop this also\n",
    "\n",
    "**URL**: This is useless feature, drop this\n",
    "\n",
    "**STATUS**: We can drop this feature, as using value_counts() we can see that all of values are ACTIVE\n",
    "\n",
    "**SOURCE**: Using value_counts(), we can see that out of 1017, NTREIS has almost 990, so drop this!!\n",
    "\n",
    "**FAVOURITE**: Here it has only 1 value which is 'N', so it is not useful\n",
    "\n",
    "**INTERESTED**: Here it has only 1 value which is 'Y', which is not useful\n",
    "\n",
    "**LATITUDE / LONGITUDE** : We already has the property LOCATION, so we dont require these features!!\n",
    "\n",
    "**MLS#** : It contains unique values for each property so we can drop this\n",
    "\n",
    "**SQUARE FEET**: As we are already given per squarefeet \n"
   ]
  },
  {
   "cell_type": "markdown",
   "metadata": {},
   "source": [
    "#### NOW LETS DROP THESE FEATURES"
   ]
  },
  {
   "cell_type": "code",
   "execution_count": 144,
   "metadata": {},
   "outputs": [],
   "source": [
    "features_to_drop  = ['SALE TYPE','SOLD DATE','ADDRESS', 'CITY','STATE OR PROVINCE','ZIP OR POSTAL CODE','LOT SIZE',\n",
    "                    'HOA/MONTH','NEXT OPEN HOUSE START TIME','NEXT OPEN HOUSE END TIME','URL (SEE http://www.redfin.com/buy-a-home/comparative-market-analysis FOR INFO ON PRICING)',\n",
    "                     'SOURCE','FAVORITE','INTERESTED','LATITUDE','LONGITUDE','STATUS', 'MLS#', 'SQUARE FEET']"
   ]
  },
  {
   "cell_type": "code",
   "execution_count": 145,
   "metadata": {},
   "outputs": [],
   "source": [
    "df.drop(features_to_drop,axis=1, inplace=True)"
   ]
  },
  {
   "cell_type": "code",
   "execution_count": 146,
   "metadata": {},
   "outputs": [
    {
     "data": {
      "text/html": [
       "<div>\n",
       "<style scoped>\n",
       "    .dataframe tbody tr th:only-of-type {\n",
       "        vertical-align: middle;\n",
       "    }\n",
       "\n",
       "    .dataframe tbody tr th {\n",
       "        vertical-align: top;\n",
       "    }\n",
       "\n",
       "    .dataframe thead th {\n",
       "        text-align: right;\n",
       "    }\n",
       "</style>\n",
       "<table border=\"1\" class=\"dataframe\">\n",
       "  <thead>\n",
       "    <tr style=\"text-align: right;\">\n",
       "      <th></th>\n",
       "      <th>PROPERTY TYPE</th>\n",
       "      <th>PRICE</th>\n",
       "      <th>BEDS</th>\n",
       "      <th>BATHS</th>\n",
       "      <th>LOCATION</th>\n",
       "      <th>YEAR BUILT</th>\n",
       "      <th>DAYS ON MARKET</th>\n",
       "      <th>$/SQUARE FEET</th>\n",
       "    </tr>\n",
       "  </thead>\n",
       "  <tbody>\n",
       "    <tr>\n",
       "      <th>0</th>\n",
       "      <td>Condo/Co-op</td>\n",
       "      <td>352000.0</td>\n",
       "      <td>3.0</td>\n",
       "      <td>2.5</td>\n",
       "      <td>Buzz Condo</td>\n",
       "      <td>2006.0</td>\n",
       "      <td>2.0</td>\n",
       "      <td>190.0</td>\n",
       "    </tr>\n",
       "    <tr>\n",
       "      <th>1</th>\n",
       "      <td>Condo/Co-op</td>\n",
       "      <td>300000.0</td>\n",
       "      <td>2.0</td>\n",
       "      <td>2.0</td>\n",
       "      <td>Metropolitan 1200 Main Street</td>\n",
       "      <td>1974.0</td>\n",
       "      <td>64.0</td>\n",
       "      <td>257.0</td>\n",
       "    </tr>\n",
       "    <tr>\n",
       "      <th>2</th>\n",
       "      <td>Condo/Co-op</td>\n",
       "      <td>325000.0</td>\n",
       "      <td>2.0</td>\n",
       "      <td>2.0</td>\n",
       "      <td>Metropolitan 1200 Main St Condo</td>\n",
       "      <td>1974.0</td>\n",
       "      <td>99.0</td>\n",
       "      <td>278.0</td>\n",
       "    </tr>\n",
       "    <tr>\n",
       "      <th>3</th>\n",
       "      <td>Condo/Co-op</td>\n",
       "      <td>247000.0</td>\n",
       "      <td>1.0</td>\n",
       "      <td>1.0</td>\n",
       "      <td>Metropolitan 1200 Main St Condo</td>\n",
       "      <td>1974.0</td>\n",
       "      <td>24.0</td>\n",
       "      <td>281.0</td>\n",
       "    </tr>\n",
       "    <tr>\n",
       "      <th>4</th>\n",
       "      <td>Condo/Co-op</td>\n",
       "      <td>196000.0</td>\n",
       "      <td>1.0</td>\n",
       "      <td>1.0</td>\n",
       "      <td>Metropolitan 1200 Main St Condo</td>\n",
       "      <td>1974.0</td>\n",
       "      <td>140.0</td>\n",
       "      <td>297.0</td>\n",
       "    </tr>\n",
       "  </tbody>\n",
       "</table>\n",
       "</div>"
      ],
      "text/plain": [
       "  PROPERTY TYPE     PRICE  BEDS  BATHS                         LOCATION  \\\n",
       "0   Condo/Co-op  352000.0   3.0    2.5                       Buzz Condo   \n",
       "1   Condo/Co-op  300000.0   2.0    2.0    Metropolitan 1200 Main Street   \n",
       "2   Condo/Co-op  325000.0   2.0    2.0  Metropolitan 1200 Main St Condo   \n",
       "3   Condo/Co-op  247000.0   1.0    1.0  Metropolitan 1200 Main St Condo   \n",
       "4   Condo/Co-op  196000.0   1.0    1.0  Metropolitan 1200 Main St Condo   \n",
       "\n",
       "   YEAR BUILT  DAYS ON MARKET  $/SQUARE FEET  \n",
       "0      2006.0             2.0          190.0  \n",
       "1      1974.0            64.0          257.0  \n",
       "2      1974.0            99.0          278.0  \n",
       "3      1974.0            24.0          281.0  \n",
       "4      1974.0           140.0          297.0  "
      ]
     },
     "execution_count": 146,
     "metadata": {},
     "output_type": "execute_result"
    }
   ],
   "source": [
    "df.head()"
   ]
  },
  {
   "cell_type": "markdown",
   "metadata": {},
   "source": [
    "**Now, again check how many of the null values are present in features**"
   ]
  },
  {
   "cell_type": "code",
   "execution_count": 147,
   "metadata": {},
   "outputs": [
    {
     "data": {
      "text/plain": [
       "PROPERTY TYPE      0.098328\n",
       "PRICE              0.098328\n",
       "BEDS               0.098328\n",
       "BATHS             10.521141\n",
       "LOCATION           0.294985\n",
       "YEAR BUILT         8.751229\n",
       "DAYS ON MARKET     1.671583\n",
       "$/SQUARE FEET      8.652901\n",
       "dtype: float64"
      ]
     },
     "execution_count": 147,
     "metadata": {},
     "output_type": "execute_result"
    }
   ],
   "source": [
    "df.isnull().mean()*100"
   ]
  },
  {
   "cell_type": "markdown",
   "metadata": {},
   "source": [
    "**Here one important thing to note is that 'PRICE' here is target variable and we see there are some values that are missing, so we should remove all the null values from PRICE column**"
   ]
  },
  {
   "cell_type": "code",
   "execution_count": 148,
   "metadata": {},
   "outputs": [],
   "source": [
    "df.dropna(subset=['PRICE'],inplace=True)"
   ]
  },
  {
   "cell_type": "code",
   "execution_count": 149,
   "metadata": {},
   "outputs": [
    {
     "data": {
      "text/plain": [
       "PROPERTY TYPE      0.000000\n",
       "PRICE              0.000000\n",
       "BEDS               0.000000\n",
       "BATHS             10.433071\n",
       "LOCATION           0.196850\n",
       "YEAR BUILT         8.661417\n",
       "DAYS ON MARKET     1.574803\n",
       "$/SQUARE FEET      8.562992\n",
       "dtype: float64"
      ]
     },
     "execution_count": 149,
     "metadata": {},
     "output_type": "execute_result"
    }
   ],
   "source": [
    "df.isnull().mean()*100"
   ]
  },
  {
   "cell_type": "markdown",
   "metadata": {},
   "source": [
    "***In the above we can see that all the features has less than 10% of missing values, so we can impute them***"
   ]
  },
  {
   "cell_type": "code",
   "execution_count": 150,
   "metadata": {},
   "outputs": [],
   "source": [
    "def cleaning_function(data):\n",
    "    \n",
    "    # first drop those rows that has all the null values\n",
    "    data.dropna(how='all')\n",
    "    \n",
    "    # Now, impute the features with missing values with the mode of values\n",
    "    data['BATHS'].fillna(value=data['BATHS'].mode()[0],inplace=True)\n",
    "    data['LOCATION'].fillna(value =data['LOCATION'].mode()[0],inplace=True)\n",
    "    data['YEAR BUILT'].fillna(value = data['YEAR BUILT'].mode()[0], inplace=True)\n",
    "    data['DAYS ON MARKET'].fillna(value = data['DAYS ON MARKET'].mode()[0], inplace=True)\n",
    "    \n",
    "    # Now impute the fetures with missing values with mean of values\n",
    "    data['$/SQUARE FEET'].fillna(data['$/SQUARE FEET'].mean(),inplace=True)\n",
    "    \n",
    "    ## Now using YEAR BUILT, we can calculate the AGE as below\n",
    "    data['AGE'] = 2021 - data['YEAR BUILT']\n",
    "    data.drop('YEAR BUILT',axis=1,inplace=True)\n",
    "    \n",
    "    return data"
   ]
  },
  {
   "cell_type": "code",
   "execution_count": 151,
   "metadata": {},
   "outputs": [],
   "source": [
    "df_cleaned = cleaning_function(df)"
   ]
  },
  {
   "cell_type": "code",
   "execution_count": 152,
   "metadata": {},
   "outputs": [
    {
     "data": {
      "text/html": [
       "<div>\n",
       "<style scoped>\n",
       "    .dataframe tbody tr th:only-of-type {\n",
       "        vertical-align: middle;\n",
       "    }\n",
       "\n",
       "    .dataframe tbody tr th {\n",
       "        vertical-align: top;\n",
       "    }\n",
       "\n",
       "    .dataframe thead th {\n",
       "        text-align: right;\n",
       "    }\n",
       "</style>\n",
       "<table border=\"1\" class=\"dataframe\">\n",
       "  <thead>\n",
       "    <tr style=\"text-align: right;\">\n",
       "      <th></th>\n",
       "      <th>PROPERTY TYPE</th>\n",
       "      <th>PRICE</th>\n",
       "      <th>BEDS</th>\n",
       "      <th>BATHS</th>\n",
       "      <th>LOCATION</th>\n",
       "      <th>DAYS ON MARKET</th>\n",
       "      <th>$/SQUARE FEET</th>\n",
       "      <th>AGE</th>\n",
       "    </tr>\n",
       "  </thead>\n",
       "  <tbody>\n",
       "    <tr>\n",
       "      <th>0</th>\n",
       "      <td>Condo/Co-op</td>\n",
       "      <td>352000.0</td>\n",
       "      <td>3.0</td>\n",
       "      <td>2.5</td>\n",
       "      <td>Buzz Condo</td>\n",
       "      <td>2.0</td>\n",
       "      <td>190.0</td>\n",
       "      <td>15.0</td>\n",
       "    </tr>\n",
       "    <tr>\n",
       "      <th>1</th>\n",
       "      <td>Condo/Co-op</td>\n",
       "      <td>300000.0</td>\n",
       "      <td>2.0</td>\n",
       "      <td>2.0</td>\n",
       "      <td>Metropolitan 1200 Main Street</td>\n",
       "      <td>64.0</td>\n",
       "      <td>257.0</td>\n",
       "      <td>47.0</td>\n",
       "    </tr>\n",
       "    <tr>\n",
       "      <th>2</th>\n",
       "      <td>Condo/Co-op</td>\n",
       "      <td>325000.0</td>\n",
       "      <td>2.0</td>\n",
       "      <td>2.0</td>\n",
       "      <td>Metropolitan 1200 Main St Condo</td>\n",
       "      <td>99.0</td>\n",
       "      <td>278.0</td>\n",
       "      <td>47.0</td>\n",
       "    </tr>\n",
       "    <tr>\n",
       "      <th>3</th>\n",
       "      <td>Condo/Co-op</td>\n",
       "      <td>247000.0</td>\n",
       "      <td>1.0</td>\n",
       "      <td>1.0</td>\n",
       "      <td>Metropolitan 1200 Main St Condo</td>\n",
       "      <td>24.0</td>\n",
       "      <td>281.0</td>\n",
       "      <td>47.0</td>\n",
       "    </tr>\n",
       "    <tr>\n",
       "      <th>4</th>\n",
       "      <td>Condo/Co-op</td>\n",
       "      <td>196000.0</td>\n",
       "      <td>1.0</td>\n",
       "      <td>1.0</td>\n",
       "      <td>Metropolitan 1200 Main St Condo</td>\n",
       "      <td>140.0</td>\n",
       "      <td>297.0</td>\n",
       "      <td>47.0</td>\n",
       "    </tr>\n",
       "  </tbody>\n",
       "</table>\n",
       "</div>"
      ],
      "text/plain": [
       "  PROPERTY TYPE     PRICE  BEDS  BATHS                         LOCATION  \\\n",
       "0   Condo/Co-op  352000.0   3.0    2.5                       Buzz Condo   \n",
       "1   Condo/Co-op  300000.0   2.0    2.0    Metropolitan 1200 Main Street   \n",
       "2   Condo/Co-op  325000.0   2.0    2.0  Metropolitan 1200 Main St Condo   \n",
       "3   Condo/Co-op  247000.0   1.0    1.0  Metropolitan 1200 Main St Condo   \n",
       "4   Condo/Co-op  196000.0   1.0    1.0  Metropolitan 1200 Main St Condo   \n",
       "\n",
       "   DAYS ON MARKET  $/SQUARE FEET   AGE  \n",
       "0             2.0          190.0  15.0  \n",
       "1            64.0          257.0  47.0  \n",
       "2            99.0          278.0  47.0  \n",
       "3            24.0          281.0  47.0  \n",
       "4           140.0          297.0  47.0  "
      ]
     },
     "execution_count": 152,
     "metadata": {},
     "output_type": "execute_result"
    }
   ],
   "source": [
    "df_cleaned.head()"
   ]
  },
  {
   "cell_type": "markdown",
   "metadata": {},
   "source": [
    "### 4. Answering Some Questions"
   ]
  },
  {
   "cell_type": "markdown",
   "metadata": {},
   "source": [
    "### Analysis -1: Top 20 most expensive locations in Texas based on current data"
   ]
  },
  {
   "cell_type": "code",
   "execution_count": 153,
   "metadata": {},
   "outputs": [
    {
     "data": {
      "image/png": "[encoded data removed]",
      "text/plain": [
       "<Figure size 432x288 with 1 Axes>"
      ]
     },
     "metadata": {
      "needs_background": "light"
     },
     "output_type": "display_data"
    }
   ],
   "source": [
    "df_cleaned.groupby('LOCATION').agg({'PRICE':'mean'}).sort_values('PRICE',ascending=False)[:20].plot(kind='bar')\n",
    "plt.xlabel('LOCATION',fontsize=13)\n",
    "plt.ylabel('Average Price location wise', fontsize=13)\n",
    "plt.title('Top 20 most expensive locations', fontsize=13);"
   ]
  },
  {
   "cell_type": "markdown",
   "metadata": {},
   "source": [
    "**From the above we can see that Armstrong, followed by Highland Park Acreage are the most expensive ones**"
   ]
  },
  {
   "cell_type": "markdown",
   "metadata": {},
   "source": [
    "### Analysis -2: How the property type varies with Property type"
   ]
  },
  {
   "cell_type": "code",
   "execution_count": 154,
   "metadata": {},
   "outputs": [
    {
     "data": {
      "image/png": "[encoded data removed]",
      "text/plain": [
       "<Figure size 432x288 with 1 Axes>"
      ]
     },
     "metadata": {
      "needs_background": "light"
     },
     "output_type": "display_data"
    }
   ],
   "source": [
    "df_cleaned.groupby('PROPERTY TYPE').agg(avg_price = ('PRICE','mean')).sort_values('avg_price',ascending=False).plot(kind='bar')\n",
    "plt.xlabel('Property Type', fontsize=13)\n",
    "plt.ylabel('Average Price', fontsize=13)\n",
    "plt.title('Average Price per Property Type',fontsize=13);"
   ]
  },
  {
   "cell_type": "markdown",
   "metadata": {},
   "source": [
    "**From the above we can see that the Multi- Family (5_ units) are more costly as compared to others**"
   ]
  },
  {
   "cell_type": "markdown",
   "metadata": {},
   "source": [
    "### Analysis -3: Variation of Price with Number of Baths"
   ]
  },
  {
   "cell_type": "code",
   "execution_count": 155,
   "metadata": {},
   "outputs": [
    {
     "data": {
      "image/png": "[encoded data removed]",
      "text/plain": [
       "<Figure size 432x288 with 1 Axes>"
      ]
     },
     "metadata": {
      "needs_background": "light"
     },
     "output_type": "display_data"
    }
   ],
   "source": [
    "df_cleaned.groupby('BATHS').agg({'PRICE':'mean'}).sort_values('BATHS',ascending=False).plot(kind='bar')\n",
    "plt.xlabel('Baths', fontsize=13)\n",
    "plt.ylabel('Average Price', fontsize=13)\n",
    "plt.title('Variation of Number of Baths with Price');"
   ]
  },
  {
   "cell_type": "markdown",
   "metadata": {},
   "source": [
    "**Froom the above one common observation we have is that as more the number of baths more being the Price of property**"
   ]
  },
  {
   "cell_type": "markdown",
   "metadata": {},
   "source": [
    "### 5. Machine Learning"
   ]
  },
  {
   "cell_type": "code",
   "execution_count": 156,
   "metadata": {},
   "outputs": [
    {
     "data": {
      "text/html": [
       "<div>\n",
       "<style scoped>\n",
       "    .dataframe tbody tr th:only-of-type {\n",
       "        vertical-align: middle;\n",
       "    }\n",
       "\n",
       "    .dataframe tbody tr th {\n",
       "        vertical-align: top;\n",
       "    }\n",
       "\n",
       "    .dataframe thead th {\n",
       "        text-align: right;\n",
       "    }\n",
       "</style>\n",
       "<table border=\"1\" class=\"dataframe\">\n",
       "  <thead>\n",
       "    <tr style=\"text-align: right;\">\n",
       "      <th></th>\n",
       "      <th>PROPERTY TYPE</th>\n",
       "      <th>PRICE</th>\n",
       "      <th>BEDS</th>\n",
       "      <th>BATHS</th>\n",
       "      <th>LOCATION</th>\n",
       "      <th>DAYS ON MARKET</th>\n",
       "      <th>$/SQUARE FEET</th>\n",
       "      <th>AGE</th>\n",
       "    </tr>\n",
       "  </thead>\n",
       "  <tbody>\n",
       "    <tr>\n",
       "      <th>0</th>\n",
       "      <td>Condo/Co-op</td>\n",
       "      <td>352000.0</td>\n",
       "      <td>3.0</td>\n",
       "      <td>2.5</td>\n",
       "      <td>Buzz Condo</td>\n",
       "      <td>2.0</td>\n",
       "      <td>190.0</td>\n",
       "      <td>15.0</td>\n",
       "    </tr>\n",
       "    <tr>\n",
       "      <th>1</th>\n",
       "      <td>Condo/Co-op</td>\n",
       "      <td>300000.0</td>\n",
       "      <td>2.0</td>\n",
       "      <td>2.0</td>\n",
       "      <td>Metropolitan 1200 Main Street</td>\n",
       "      <td>64.0</td>\n",
       "      <td>257.0</td>\n",
       "      <td>47.0</td>\n",
       "    </tr>\n",
       "    <tr>\n",
       "      <th>2</th>\n",
       "      <td>Condo/Co-op</td>\n",
       "      <td>325000.0</td>\n",
       "      <td>2.0</td>\n",
       "      <td>2.0</td>\n",
       "      <td>Metropolitan 1200 Main St Condo</td>\n",
       "      <td>99.0</td>\n",
       "      <td>278.0</td>\n",
       "      <td>47.0</td>\n",
       "    </tr>\n",
       "    <tr>\n",
       "      <th>3</th>\n",
       "      <td>Condo/Co-op</td>\n",
       "      <td>247000.0</td>\n",
       "      <td>1.0</td>\n",
       "      <td>1.0</td>\n",
       "      <td>Metropolitan 1200 Main St Condo</td>\n",
       "      <td>24.0</td>\n",
       "      <td>281.0</td>\n",
       "      <td>47.0</td>\n",
       "    </tr>\n",
       "    <tr>\n",
       "      <th>4</th>\n",
       "      <td>Condo/Co-op</td>\n",
       "      <td>196000.0</td>\n",
       "      <td>1.0</td>\n",
       "      <td>1.0</td>\n",
       "      <td>Metropolitan 1200 Main St Condo</td>\n",
       "      <td>140.0</td>\n",
       "      <td>297.0</td>\n",
       "      <td>47.0</td>\n",
       "    </tr>\n",
       "  </tbody>\n",
       "</table>\n",
       "</div>"
      ],
      "text/plain": [
       "  PROPERTY TYPE     PRICE  BEDS  BATHS                         LOCATION  \\\n",
       "0   Condo/Co-op  352000.0   3.0    2.5                       Buzz Condo   \n",
       "1   Condo/Co-op  300000.0   2.0    2.0    Metropolitan 1200 Main Street   \n",
       "2   Condo/Co-op  325000.0   2.0    2.0  Metropolitan 1200 Main St Condo   \n",
       "3   Condo/Co-op  247000.0   1.0    1.0  Metropolitan 1200 Main St Condo   \n",
       "4   Condo/Co-op  196000.0   1.0    1.0  Metropolitan 1200 Main St Condo   \n",
       "\n",
       "   DAYS ON MARKET  $/SQUARE FEET   AGE  \n",
       "0             2.0          190.0  15.0  \n",
       "1            64.0          257.0  47.0  \n",
       "2            99.0          278.0  47.0  \n",
       "3            24.0          281.0  47.0  \n",
       "4           140.0          297.0  47.0  "
      ]
     },
     "execution_count": 156,
     "metadata": {},
     "output_type": "execute_result"
    }
   ],
   "source": [
    "df_cleaned.head()"
   ]
  },
  {
   "cell_type": "markdown",
   "metadata": {},
   "source": [
    "**A. Here we need to first check which all are qualitative features and we need to convert/create there dummies**"
   ]
  },
  {
   "cell_type": "code",
   "execution_count": 157,
   "metadata": {},
   "outputs": [
    {
     "name": "stdout",
     "output_type": "stream",
     "text": [
      "Features that are qualitative are : Index(['PROPERTY TYPE', 'LOCATION'], dtype='object')\n"
     ]
    }
   ],
   "source": [
    "print(\"Features that are qualitative are :\", df_cleaned.select_dtypes(include = ['object']).columns)"
   ]
  },
  {
   "cell_type": "code",
   "execution_count": 158,
   "metadata": {},
   "outputs": [
    {
     "name": "stdout",
     "output_type": "stream",
     "text": [
      "Unique values in LOCATION feature are:  610\n",
      "Unique values in PROPERTY TYPE feature are:  6\n"
     ]
    }
   ],
   "source": [
    "print(\"Unique values in LOCATION feature are: \",df_cleaned.LOCATION.nunique())\n",
    "print(\"Unique values in PROPERTY TYPE feature are: \",df_cleaned['PROPERTY TYPE'].nunique())"
   ]
  },
  {
   "cell_type": "markdown",
   "metadata": {},
   "source": [
    "**Here LOCATION features has 610 unique values, so we can remove them and can only convert PROPERTY TYPE into dummies**"
   ]
  },
  {
   "cell_type": "code",
   "execution_count": 159,
   "metadata": {},
   "outputs": [],
   "source": [
    "dummies = pd.get_dummies(df_cleaned['PROPERTY TYPE'],prefix = \"PT\",prefix_sep=\"_\")\n",
    "df_cleaned = pd.concat((df_cleaned.drop('PROPERTY TYPE',axis=1),dummies),axis=1)"
   ]
  },
  {
   "cell_type": "code",
   "execution_count": 160,
   "metadata": {},
   "outputs": [],
   "source": [
    "X = df_cleaned.drop('LOCATION',axis=1)\n",
    "y = df_cleaned['PRICE']"
   ]
  },
  {
   "cell_type": "code",
   "execution_count": 161,
   "metadata": {},
   "outputs": [],
   "source": [
    "X_train, X_test, y_train, y_test = train_test_split(X, y, test_size=0.3, random_state=42)"
   ]
  },
  {
   "cell_type": "markdown",
   "metadata": {},
   "source": [
    "**Lets Standardize the Dataset**"
   ]
  },
  {
   "cell_type": "code",
   "execution_count": 162,
   "metadata": {},
   "outputs": [],
   "source": [
    "sc = StandardScaler()\n",
    "X_train_sc = sc.fit_transform(X_train)\n",
    "X_test_sc = sc.transform(X_test)"
   ]
  },
  {
   "cell_type": "markdown",
   "metadata": {},
   "source": [
    "***Since this is a supervised and an regression problem, we will be using different regression techniques like: Decision tree regressor, Ridge Regression, XGBoost regressor, random forest regressor and see which one gives us the best r2 (r-squared) value and we can use that model for to find out best features usuing feature importance***"
   ]
  },
  {
   "cell_type": "code",
   "execution_count": 163,
   "metadata": {},
   "outputs": [
    {
     "name": "stdout",
     "output_type": "stream",
     "text": [
      "R-square value for DecisionTreeRegressor is : 0.9123114528479371\n",
      "R-square value for RandomForestRegressor is : 0.9043865796716944\n",
      "R-square value for xgb is : 0.9344487707213833\n"
     ]
    }
   ],
   "source": [
    "for alg in [\"DecisionTreeRegressor\",\"RandomForestRegressor\",\"xgb\"]:\n",
    "    if alg == \"DecisionTreeRegressor\": model = DecisionTreeRegressor();\n",
    "    elif alg == \"RandomForestRegressor\" : model = RandomForestRegressor();\n",
    "    elif alg == \"xgb\" : model = xgb.XGBRFRegressor()\n",
    "        \n",
    "    model.fit(X_train_sc,y_train)\n",
    "    pred = model.predict(X_test_sc)\n",
    "    print(f\"R-square value for {alg} is :\",r2_score(y_test,pred))"
   ]
  },
  {
   "cell_type": "markdown",
   "metadata": {},
   "source": [
    "**From the above we can see that XGBOOST brings the best results. So, we can use it to find out which all are the important features in our dataset**"
   ]
  },
  {
   "cell_type": "code",
   "execution_count": 165,
   "metadata": {},
   "outputs": [],
   "source": [
    "model = xgb.XGBRFRegressor()\n",
    "model.fit(X_train_sc,y_train)\n",
    "predictions = model.predict(X_test_sc)"
   ]
  },
  {
   "cell_type": "code",
   "execution_count": 175,
   "metadata": {},
   "outputs": [],
   "source": [
    "feature_imp = sorted(zip(df_cleaned.columns, model.feature_importances_), key = lambda x : x[-1],reverse=True)"
   ]
  },
  {
   "cell_type": "code",
   "execution_count": 176,
   "metadata": {},
   "outputs": [],
   "source": [
    "df_feature_imp = pd.DataFrame(feature_imp, columns=['Features','Scores'])"
   ]
  },
  {
   "cell_type": "code",
   "execution_count": 182,
   "metadata": {},
   "outputs": [
    {
     "data": {
      "image/png": "[encoded data removed]",
      "text/plain": [
       "<Figure size 432x288 with 1 Axes>"
      ]
     },
     "metadata": {
      "needs_background": "light"
     },
     "output_type": "display_data"
    }
   ],
   "source": [
    "df_feature_imp.set_index('Features').plot(kind='bar')\n",
    "plt.xlabel('Features', fontsize=13)\n",
    "plt.ylabel('Scores', fontsize=13)\n",
    "plt.title('Feature Importance calculated using XGBoost Regressor');"
   ]
  },
  {
   "cell_type": "markdown",
   "metadata": {},
   "source": [
    "**From the above we can see that according to XGBOOST Regressor, best features comes out to be are:**\n",
    "\n",
    "**1.** DAYS ON MARKET: It means people check for how long the property is listed on website\n",
    "\n",
    "**2.** PT_Multi-Family(2-4): It means that people prefer units that has 2-4 beds\n",
    "\n",
    "**3.** BATHS: Baths are also one of the most important,as the number of BATHS increases, PRICE increases\n",
    "\n",
    "**4.** AGE: It defined how old is the property and certainly one of the important predictor."
   ]
  },
  {
   "cell_type": "code",
   "execution_count": null,
   "metadata": {},
   "outputs": [],
   "source": []
  }
 ],
 "metadata": {
  "kernelspec": {
   "display_name": "Python 3",
   "language": "python",
   "name": "python3"
  },
  "language_info": {
   "codemirror_mode": {
    "name": "ipython",
    "version": 3
   },
   "file_extension": ".py",
   "mimetype": "text/x-python",
   "name": "python",
   "nbconvert_exporter": "python",
   "pygments_lexer": "ipython3",
   "version": "3.7.3"
  }
 },
 "nbformat": 4,
 "nbformat_minor": 2
}
